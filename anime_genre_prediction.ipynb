{
  "nbformat": 4,
  "nbformat_minor": 0,
  "metadata": {
    "colab": {
      "name": "anime_genre_prediction.ipynb",
      "provenance": [],
      "collapsed_sections": [],
      "authorship_tag": "ABX9TyO0jBui0OqIKg99NQ4s4keW",
      "include_colab_link": true
    },
    "kernelspec": {
      "name": "python3",
      "display_name": "Python 3"
    },
    "language_info": {
      "name": "python"
    }
  },
  "cells": [
    {
      "cell_type": "markdown",
      "metadata": {
        "id": "view-in-github",
        "colab_type": "text"
      },
      "source": [
        "<a href=\"https://colab.research.google.com/github/kartikeyaj0/anime-genre-prediction/blob/main/anime_genre_prediction.ipynb\" target=\"_parent\"><img src=\"https://colab.research.google.com/assets/colab-badge.svg\" alt=\"Open In Colab\"/></a>"
      ]
    },
    {
      "cell_type": "markdown",
      "metadata": {
        "id": "B9WuB3hsq6bO"
      },
      "source": [
        "# Introduction\n",
        "\n",
        "In this project I will be trying to predict the genre for animes using their synopsis. We have used the MyAnimeList api (https://myanimelist.net/apiconfig/references/api/v2) to fetch the data. Please refer to the *'fetch_data.py'*. We will be using TF-IDF to convert the synopsis into a document matrix, and compare the performance of logistic regression, linear support vector classifier, and random forests on this dataset."
      ]
    },
    {
      "cell_type": "markdown",
      "metadata": {
        "id": "_5FTCNzfsOjT"
      },
      "source": [
        "# Imports\n",
        "\n",
        "We begin by importing all the necessary modules:"
      ]
    },
    {
      "cell_type": "code",
      "metadata": {
        "id": "Jx2pz4VYpuYo"
      },
      "source": [
        "import json\n",
        "import os\n",
        "import re\n",
        "\n",
        "from matplotlib import pyplot as plt\n",
        "import nltk\n",
        "from nltk.corpus import stopwords\n",
        "from nltk import RegexpTokenizer\n",
        "from nltk.stem.porter import PorterStemmer\n",
        "import numpy as np\n",
        "import pandas as pd\n",
        "import seaborn as sn\n",
        "from sklearn.ensemble import RandomForestClassifier\n",
        "from sklearn.feature_extraction.text import TfidfVectorizer\n",
        "from sklearn.model_selection import train_test_split\n",
        "from sklearn.multiclass import OneVsRestClassifier\n",
        "from sklearn.linear_model import LogisticRegression\n",
        "from sklearn.svm import LinearSVC"
      ],
      "execution_count": 40,
      "outputs": []
    },
    {
      "cell_type": "markdown",
      "metadata": {
        "id": "8GzzDIB5saYZ"
      },
      "source": [
        "# Fetching the data\n",
        "\n",
        "We will be cloning the project repository that contains the api responses saved as json files. An example of an api response is as follows:\n",
        "\n",
        "{\"id\": 1, \"title\": \"Cowboy Bebop\", \"synopsis\": \"In the year 2071, humanity has colonized several of the planets and moons of the solar system leaving the now uninhabitable surface of planet Earth behind. The Inter Solar System Police attempts to keep peace in the galaxy, aided in part by outlaw bounty hunters, referred to as \\\"Cowboys.\\\" The ragtag team aboard the spaceship Bebop are two such individuals.\\n \\nMellow and carefree Spike Spiegel is balanced by his boisterous, pragmatic partner Jet Black as the pair makes a living chasing bounties and collecting rewards. Thrown off course by the addition of new members that they meet in their travels\\u2014Ein, a genetically engineered, highly intelligent Welsh Corgi; femme fatale Faye Valentine, an enigmatic trickster with memory loss; and the strange computer whiz kid Edward Wong\\u2014the crew embarks on thrilling adventures that unravel each member's dark and mysterious past little by little.\\n\\nWell-balanced with high density action and light-hearted comedy, Cowboy Bebop is a space Western classic and an homage to the smooth and improvised music it is named after.\\n\\n[Written by MAL Rewrite]\", \"genres\": [{\"id\": 1, \"name\": \"Action\"}, {\"id\": 2, \"name\": \"Adventure\"}, {\"id\": 4, \"name\": \"Comedy\"}, {\"id\": 8, \"name\": \"Drama\"}, {\"id\": 24, \"name\": \"Sci-Fi\"}, {\"id\": 29, \"name\": \"Space\"}]}\n",
        "\n",
        "We see that the response (in general)has four fields:\n",
        "* id: Unique identifier in the MyAnimeList database\n",
        "* title: Name of the anime\n",
        "* synopsis: A brief summary of the anime\n",
        "* genres: A list of genres that best describe the anime\n",
        "\n",
        "Since fetching the data from the api takes a long time (due to rate limitations), we will use the pre-fetched data from our repository. The *'fetch_data.py'* script scans through ids 1 to 40000, and fetches data for the valid ids. We discard any responses with synopsis of length less than 200 characters."
      ]
    },
    {
      "cell_type": "code",
      "metadata": {
        "colab": {
          "base_uri": "https://localhost:8080/"
        },
        "id": "nnejnUAJtw1f",
        "outputId": "c7d48990-2f7a-42e9-99af-c76d15030263"
      },
      "source": [
        "!git clone https://github.com/kartikeyaj0/anime-genre-prediction.git\n",
        "os.chdir('anime-genre-prediction')"
      ],
      "execution_count": 41,
      "outputs": [
        {
          "output_type": "stream",
          "name": "stdout",
          "text": [
            "Cloning into 'anime-genre-prediction'...\n",
            "remote: Enumerating objects: 9653, done.\u001b[K\n",
            "remote: Counting objects: 100% (9653/9653), done.\u001b[K\n",
            "remote: Compressing objects: 100% (9616/9616), done.\u001b[K\n",
            "remote: Total 9653 (delta 47), reused 9612 (delta 23), pack-reused 0\u001b[K\n",
            "Receiving objects: 100% (9653/9653), 23.76 MiB | 22.20 MiB/s, done.\n",
            "Resolving deltas: 100% (47/47), done.\n"
          ]
        }
      ]
    },
    {
      "cell_type": "markdown",
      "metadata": {
        "id": "SEA6MEFtudvd"
      },
      "source": [
        "# Compile the API responses\n",
        "\n",
        "We begin by loading the response json files into python lists"
      ]
    },
    {
      "cell_type": "code",
      "metadata": {
        "id": "P6EZ6mJYpyuH"
      },
      "source": [
        "anime_id = []\n",
        "anime_title = []\n",
        "anime_synopsis = []\n",
        "anime_genres = []\n",
        "\n",
        "# List all the data files\n",
        "file_list = os.listdir('data')\n",
        "\n",
        "# Read all the files\n",
        "for filename in file_list:\n",
        "    try:\n",
        "        with open('data/{}'.format(filename)) as f:\n",
        "            tmp = json.load(f)\n",
        "        anime_id.append(tmp.get('id'))\n",
        "        anime_title.append(tmp.get('title'))\n",
        "        anime_synopsis.append(tmp.get('synopsis'))\n",
        "        anime_genres.append(tmp.get('genres'))\n",
        "    except Exception:\n",
        "        raise Exception('Error reading the file {}'.format(filename))"
      ],
      "execution_count": 42,
      "outputs": []
    },
    {
      "cell_type": "markdown",
      "metadata": {
        "id": "c80gMuTXv9zn"
      },
      "source": [
        "We now create a pandas dataframe for our data"
      ]
    },
    {
      "cell_type": "code",
      "metadata": {
        "colab": {
          "base_uri": "https://localhost:8080/"
        },
        "id": "sJrAPkE_p2Lf",
        "outputId": "2cf8e9dc-aa8a-45c1-866b-e27ed856744f"
      },
      "source": [
        "data = pd.DataFrame({'id': anime_id,\n",
        "                     'title': anime_title,\n",
        "                     'synopsis': anime_synopsis,\n",
        "                     'genres': anime_genres})\n",
        "\n",
        "print(data.info())"
      ],
      "execution_count": 43,
      "outputs": [
        {
          "output_type": "stream",
          "name": "stdout",
          "text": [
            "<class 'pandas.core.frame.DataFrame'>\n",
            "RangeIndex: 9517 entries, 0 to 9516\n",
            "Data columns (total 4 columns):\n",
            " #   Column    Non-Null Count  Dtype \n",
            "---  ------    --------------  ----- \n",
            " 0   id        9517 non-null   int64 \n",
            " 1   title     9517 non-null   object\n",
            " 2   synopsis  9517 non-null   object\n",
            " 3   genres    9494 non-null   object\n",
            "dtypes: int64(1), object(3)\n",
            "memory usage: 297.5+ KB\n",
            "None\n"
          ]
        }
      ]
    },
    {
      "cell_type": "markdown",
      "metadata": {
        "id": "lmi9S9HiJpf-"
      },
      "source": [
        "Since each 'id' is unique, there are no duplicates in the data. We can see that some entries do not have 'genres' populated. We will be dropping these entries."
      ]
    },
    {
      "cell_type": "code",
      "metadata": {
        "colab": {
          "base_uri": "https://localhost:8080/"
        },
        "id": "_vAo_D7lwm8J",
        "outputId": "47e1655f-3b2f-4646-80ed-286a558d4005"
      },
      "source": [
        "data.dropna(inplace=True)\n",
        "data.shape"
      ],
      "execution_count": 44,
      "outputs": [
        {
          "output_type": "execute_result",
          "data": {
            "text/plain": [
              "(9494, 4)"
            ]
          },
          "metadata": {},
          "execution_count": 44
        }
      ]
    },
    {
      "cell_type": "markdown",
      "metadata": {
        "id": "CbjQvKIUwpPZ"
      },
      "source": [
        "We can also drop id and title columns as we will not be using them"
      ]
    },
    {
      "cell_type": "code",
      "metadata": {
        "colab": {
          "base_uri": "https://localhost:8080/"
        },
        "id": "s5Ltt_T3p_Iq",
        "outputId": "be94c901-0088-40a9-9873-4378ab279352"
      },
      "source": [
        "data.drop(['id', 'title'], axis=1, inplace=True)\n",
        "data.shape"
      ],
      "execution_count": 45,
      "outputs": [
        {
          "output_type": "execute_result",
          "data": {
            "text/plain": [
              "(9494, 2)"
            ]
          },
          "metadata": {},
          "execution_count": 45
        }
      ]
    },
    {
      "cell_type": "markdown",
      "metadata": {
        "id": "e9nkqOOywyV7"
      },
      "source": [
        "# Visualize Synopsis Length\n",
        "\n",
        "Let's visualize the distribution of synopsis lengths"
      ]
    },
    {
      "cell_type": "code",
      "metadata": {
        "colab": {
          "base_uri": "https://localhost:8080/",
          "height": 311
        },
        "id": "6JipjN8Ep5L5",
        "outputId": "b41797fe-c4ed-4531-b42c-d797bb223c15"
      },
      "source": [
        "synopsis_len = data.synopsis.str.len()\n",
        "fig, ax = plt.subplots(1, 1)\n",
        "synopsis_len.hist(\n",
        "    bins=np.arange(min(synopsis_len) - 1, max(synopsis_len) + 1, 50), ax=ax)\n",
        "ax.set_xlabel('Length of Synopsis')\n",
        "ax.set_ylabel('Count')\n",
        "fig.suptitle('Distribution of Synopsis Lengths',y=1.01)\n",
        "plt.tight_layout()\n",
        "plt.show()"
      ],
      "execution_count": 46,
      "outputs": [
        {
          "output_type": "display_data",
          "data": {
            "image/png": "[encoded data removed]",
            "text/plain": [
              "<Figure size 432x288 with 1 Axes>"
            ]
          },
          "metadata": {
            "needs_background": "light"
          }
        }
      ]
    },
    {
      "cell_type": "markdown",
      "metadata": {
        "id": "Tu5nz2syrNf4"
      },
      "source": [
        "# One-Hot Encoding\n",
        "We will now generate One-hot encoding vectors for the genres"
      ]
    },
    {
      "cell_type": "code",
      "metadata": {
        "colab": {
          "base_uri": "https://localhost:8080/"
        },
        "id": "yNqGvGWIp_ES",
        "outputId": "10f36d15-50bf-4b72-bb51-d51d74c70c05"
      },
      "source": [
        "for index, row in data.iterrows():\n",
        "    for genre in row.genres:\n",
        "        if not genre['name'] in data:\n",
        "            data[genre['name']] = 0\n",
        "        data[genre['name']][index] = 1"
      ],
      "execution_count": 47,
      "outputs": [
        {
          "output_type": "stream",
          "name": "stderr",
          "text": [
            "/usr/local/lib/python3.7/dist-packages/ipykernel_launcher.py:5: SettingWithCopyWarning: \n",
            "A value is trying to be set on a copy of a slice from a DataFrame\n",
            "\n",
            "See the caveats in the documentation: https://pandas.pydata.org/pandas-docs/stable/user_guide/indexing.html#returning-a-view-versus-a-copy\n",
            "  \"\"\"\n"
          ]
        }
      ]
    },
    {
      "cell_type": "code",
      "metadata": {
        "colab": {
          "base_uri": "https://localhost:8080/",
          "height": 608
        },
        "id": "Uze8Lx4_81i0",
        "outputId": "f5cf7ec4-3712-4add-a4f2-ad8d554b010b"
      },
      "source": [
        "data.head()"
      ],
      "execution_count": 48,
      "outputs": [
        {
          "output_type": "execute_result",
          "data": {
            "text/html": [
              "<div>\n",
              "<style scoped>\n",
              "    .dataframe tbody tr th:only-of-type {\n",
              "        vertical-align: middle;\n",
              "    }\n",
              "\n",
              "    .dataframe tbody tr th {\n",
              "        vertical-align: top;\n",
              "    }\n",
              "\n",
              "    .dataframe thead th {\n",
              "        text-align: right;\n",
              "    }\n",
              "</style>\n",
              "<table border=\"1\" class=\"dataframe\">\n",
              "  <thead>\n",
              "    <tr style=\"text-align: right;\">\n",
              "      <th></th>\n",
              "      <th>synopsis</th>\n",
              "      <th>genres</th>\n",
              "      <th>Drama</th>\n",
              "      <th>Romance</th>\n",
              "      <th>Shounen</th>\n",
              "      <th>Action</th>\n",
              "      <th>Mecha</th>\n",
              "      <th>Sci-Fi</th>\n",
              "      <th>Space</th>\n",
              "      <th>Comedy</th>\n",
              "      <th>Parody</th>\n",
              "      <th>Ecchi</th>\n",
              "      <th>School</th>\n",
              "      <th>Seinen</th>\n",
              "      <th>Supernatural</th>\n",
              "      <th>Adventure</th>\n",
              "      <th>Fantasy</th>\n",
              "      <th>Historical</th>\n",
              "      <th>Shoujo</th>\n",
              "      <th>Sports</th>\n",
              "      <th>Josei</th>\n",
              "      <th>Kids</th>\n",
              "      <th>Demons</th>\n",
              "      <th>Music</th>\n",
              "      <th>Slice of Life</th>\n",
              "      <th>Super Power</th>\n",
              "      <th>Samurai</th>\n",
              "      <th>Hentai</th>\n",
              "      <th>Military</th>\n",
              "      <th>Girls Love</th>\n",
              "      <th>Game</th>\n",
              "      <th>Psychological</th>\n",
              "      <th>Martial Arts</th>\n",
              "      <th>Horror</th>\n",
              "      <th>Mystery</th>\n",
              "      <th>Suspense</th>\n",
              "      <th>Avant Garde</th>\n",
              "      <th>Harem</th>\n",
              "      <th>Police</th>\n",
              "      <th>Vampire</th>\n",
              "      <th>Gourmet</th>\n",
              "      <th>Boys Love</th>\n",
              "      <th>Erotica</th>\n",
              "      <th>Cars</th>\n",
              "      <th>Work Life</th>\n",
              "    </tr>\n",
              "  </thead>\n",
              "  <tbody>\n",
              "    <tr>\n",
              "      <th>0</th>\n",
              "      <td>Kyoshiro to Towa no Sora revolves around the l...</td>\n",
              "      <td>[{'id': 8, 'name': 'Drama'}, {'id': 22, 'name'...</td>\n",
              "      <td>1</td>\n",
              "      <td>1</td>\n",
              "      <td>1</td>\n",
              "      <td>0</td>\n",
              "      <td>0</td>\n",
              "      <td>0</td>\n",
              "      <td>0</td>\n",
              "      <td>0</td>\n",
              "      <td>0</td>\n",
              "      <td>0</td>\n",
              "      <td>0</td>\n",
              "      <td>0</td>\n",
              "      <td>0</td>\n",
              "      <td>0</td>\n",
              "      <td>0</td>\n",
              "      <td>0</td>\n",
              "      <td>0</td>\n",
              "      <td>0</td>\n",
              "      <td>0</td>\n",
              "      <td>0</td>\n",
              "      <td>0</td>\n",
              "      <td>0</td>\n",
              "      <td>0</td>\n",
              "      <td>0</td>\n",
              "      <td>0</td>\n",
              "      <td>0</td>\n",
              "      <td>0</td>\n",
              "      <td>0</td>\n",
              "      <td>0</td>\n",
              "      <td>0</td>\n",
              "      <td>0</td>\n",
              "      <td>0</td>\n",
              "      <td>0</td>\n",
              "      <td>0</td>\n",
              "      <td>0</td>\n",
              "      <td>0</td>\n",
              "      <td>0</td>\n",
              "      <td>0</td>\n",
              "      <td>0</td>\n",
              "      <td>0</td>\n",
              "      <td>0</td>\n",
              "      <td>0</td>\n",
              "      <td>0</td>\n",
              "    </tr>\n",
              "    <tr>\n",
              "      <th>1</th>\n",
              "      <td>In A.G. 101 (the 101st year of the Advanced Ge...</td>\n",
              "      <td>[{'id': 1, 'name': 'Action'}, {'id': 18, 'name...</td>\n",
              "      <td>0</td>\n",
              "      <td>0</td>\n",
              "      <td>0</td>\n",
              "      <td>1</td>\n",
              "      <td>1</td>\n",
              "      <td>1</td>\n",
              "      <td>1</td>\n",
              "      <td>0</td>\n",
              "      <td>0</td>\n",
              "      <td>0</td>\n",
              "      <td>0</td>\n",
              "      <td>0</td>\n",
              "      <td>0</td>\n",
              "      <td>0</td>\n",
              "      <td>0</td>\n",
              "      <td>0</td>\n",
              "      <td>0</td>\n",
              "      <td>0</td>\n",
              "      <td>0</td>\n",
              "      <td>0</td>\n",
              "      <td>0</td>\n",
              "      <td>0</td>\n",
              "      <td>0</td>\n",
              "      <td>0</td>\n",
              "      <td>0</td>\n",
              "      <td>0</td>\n",
              "      <td>0</td>\n",
              "      <td>0</td>\n",
              "      <td>0</td>\n",
              "      <td>0</td>\n",
              "      <td>0</td>\n",
              "      <td>0</td>\n",
              "      <td>0</td>\n",
              "      <td>0</td>\n",
              "      <td>0</td>\n",
              "      <td>0</td>\n",
              "      <td>0</td>\n",
              "      <td>0</td>\n",
              "      <td>0</td>\n",
              "      <td>0</td>\n",
              "      <td>0</td>\n",
              "      <td>0</td>\n",
              "      <td>0</td>\n",
              "    </tr>\n",
              "    <tr>\n",
              "      <th>2</th>\n",
              "      <td>Space Gundam V was presented as a Super Robot ...</td>\n",
              "      <td>[{'id': 1, 'name': 'Action'}, {'id': 4, 'name'...</td>\n",
              "      <td>0</td>\n",
              "      <td>0</td>\n",
              "      <td>0</td>\n",
              "      <td>1</td>\n",
              "      <td>1</td>\n",
              "      <td>0</td>\n",
              "      <td>0</td>\n",
              "      <td>1</td>\n",
              "      <td>0</td>\n",
              "      <td>0</td>\n",
              "      <td>0</td>\n",
              "      <td>0</td>\n",
              "      <td>0</td>\n",
              "      <td>0</td>\n",
              "      <td>0</td>\n",
              "      <td>0</td>\n",
              "      <td>0</td>\n",
              "      <td>0</td>\n",
              "      <td>0</td>\n",
              "      <td>0</td>\n",
              "      <td>0</td>\n",
              "      <td>0</td>\n",
              "      <td>0</td>\n",
              "      <td>0</td>\n",
              "      <td>0</td>\n",
              "      <td>0</td>\n",
              "      <td>0</td>\n",
              "      <td>0</td>\n",
              "      <td>0</td>\n",
              "      <td>0</td>\n",
              "      <td>0</td>\n",
              "      <td>0</td>\n",
              "      <td>0</td>\n",
              "      <td>0</td>\n",
              "      <td>0</td>\n",
              "      <td>0</td>\n",
              "      <td>0</td>\n",
              "      <td>0</td>\n",
              "      <td>0</td>\n",
              "      <td>0</td>\n",
              "      <td>0</td>\n",
              "      <td>0</td>\n",
              "      <td>0</td>\n",
              "    </tr>\n",
              "    <tr>\n",
              "      <th>3</th>\n",
              "      <td>A cat parody of Kagaku Ninja-tai Gatchaman. Ta...</td>\n",
              "      <td>[{'id': 20, 'name': 'Parody'}, {'id': 24, 'nam...</td>\n",
              "      <td>0</td>\n",
              "      <td>0</td>\n",
              "      <td>0</td>\n",
              "      <td>0</td>\n",
              "      <td>0</td>\n",
              "      <td>1</td>\n",
              "      <td>0</td>\n",
              "      <td>0</td>\n",
              "      <td>1</td>\n",
              "      <td>0</td>\n",
              "      <td>0</td>\n",
              "      <td>0</td>\n",
              "      <td>0</td>\n",
              "      <td>0</td>\n",
              "      <td>0</td>\n",
              "      <td>0</td>\n",
              "      <td>0</td>\n",
              "      <td>0</td>\n",
              "      <td>0</td>\n",
              "      <td>0</td>\n",
              "      <td>0</td>\n",
              "      <td>0</td>\n",
              "      <td>0</td>\n",
              "      <td>0</td>\n",
              "      <td>0</td>\n",
              "      <td>0</td>\n",
              "      <td>0</td>\n",
              "      <td>0</td>\n",
              "      <td>0</td>\n",
              "      <td>0</td>\n",
              "      <td>0</td>\n",
              "      <td>0</td>\n",
              "      <td>0</td>\n",
              "      <td>0</td>\n",
              "      <td>0</td>\n",
              "      <td>0</td>\n",
              "      <td>0</td>\n",
              "      <td>0</td>\n",
              "      <td>0</td>\n",
              "      <td>0</td>\n",
              "      <td>0</td>\n",
              "      <td>0</td>\n",
              "      <td>0</td>\n",
              "    </tr>\n",
              "    <tr>\n",
              "      <th>4</th>\n",
              "      <td>In Japanese folklore, a \"tsukumogami\" is an ob...</td>\n",
              "      <td>[{'id': 1, 'name': 'Action'}, {'id': 4, 'name'...</td>\n",
              "      <td>0</td>\n",
              "      <td>0</td>\n",
              "      <td>0</td>\n",
              "      <td>1</td>\n",
              "      <td>0</td>\n",
              "      <td>0</td>\n",
              "      <td>0</td>\n",
              "      <td>1</td>\n",
              "      <td>0</td>\n",
              "      <td>1</td>\n",
              "      <td>1</td>\n",
              "      <td>1</td>\n",
              "      <td>1</td>\n",
              "      <td>0</td>\n",
              "      <td>0</td>\n",
              "      <td>0</td>\n",
              "      <td>0</td>\n",
              "      <td>0</td>\n",
              "      <td>0</td>\n",
              "      <td>0</td>\n",
              "      <td>0</td>\n",
              "      <td>0</td>\n",
              "      <td>0</td>\n",
              "      <td>0</td>\n",
              "      <td>0</td>\n",
              "      <td>0</td>\n",
              "      <td>0</td>\n",
              "      <td>0</td>\n",
              "      <td>0</td>\n",
              "      <td>0</td>\n",
              "      <td>0</td>\n",
              "      <td>0</td>\n",
              "      <td>0</td>\n",
              "      <td>0</td>\n",
              "      <td>0</td>\n",
              "      <td>0</td>\n",
              "      <td>0</td>\n",
              "      <td>0</td>\n",
              "      <td>0</td>\n",
              "      <td>0</td>\n",
              "      <td>0</td>\n",
              "      <td>0</td>\n",
              "      <td>0</td>\n",
              "    </tr>\n",
              "  </tbody>\n",
              "</table>\n",
              "</div>"
            ],
            "text/plain": [
              "                                            synopsis  ... Work Life\n",
              "0  Kyoshiro to Towa no Sora revolves around the l...  ...         0\n",
              "1  In A.G. 101 (the 101st year of the Advanced Ge...  ...         0\n",
              "2  Space Gundam V was presented as a Super Robot ...  ...         0\n",
              "3  A cat parody of Kagaku Ninja-tai Gatchaman. Ta...  ...         0\n",
              "4  In Japanese folklore, a \"tsukumogami\" is an ob...  ...         0\n",
              "\n",
              "[5 rows x 45 columns]"
            ]
          },
          "metadata": {},
          "execution_count": 48
        }
      ]
    },
    {
      "cell_type": "markdown",
      "metadata": {
        "id": "vCEdG-0Yx6Fl"
      },
      "source": [
        "We can now drop the genres column"
      ]
    },
    {
      "cell_type": "code",
      "metadata": {
        "colab": {
          "base_uri": "https://localhost:8080/"
        },
        "id": "SIbi9pThx5j9",
        "outputId": "ae78aff9-1606-4e44-d938-9bb8d2a334c8"
      },
      "source": [
        "data.drop('genres', axis=1, inplace=True)\n",
        "data.shape"
      ],
      "execution_count": 49,
      "outputs": [
        {
          "output_type": "execute_result",
          "data": {
            "text/plain": [
              "(9494, 44)"
            ]
          },
          "metadata": {},
          "execution_count": 49
        }
      ]
    },
    {
      "cell_type": "markdown",
      "metadata": {
        "id": "LsAL8EUDy6Yv"
      },
      "source": [
        "# Visualizing data distribution"
      ]
    },
    {
      "cell_type": "code",
      "metadata": {
        "colab": {
          "base_uri": "https://localhost:8080/",
          "height": 370
        },
        "id": "IwWWVkWWqFIj",
        "outputId": "b181c978-98c9-4d64-eeed-0aa8be3f883e"
      },
      "source": [
        "genre_count = data.sum(numeric_only=True)\n",
        "\n",
        "# Plotting the data distribution\n",
        "plt.bar(genre_count.index, genre_count)\n",
        "plt.xlabel('genres')\n",
        "plt.ylabel('count')\n",
        "plt.xticks(rotation = 90)\n",
        "plt.title('Distribution of data across genres', y=0.99)"
      ],
      "execution_count": 50,
      "outputs": [
        {
          "output_type": "execute_result",
          "data": {
            "text/plain": [
              "Text(0.5, 0.99, 'Distribution of data across genres')"
            ]
          },
          "metadata": {},
          "execution_count": 50
        },
        {
          "output_type": "display_data",
          "data": {
            "image/png": "[encoded data removed]",
            "text/plain": [
              "<Figure size 432x288 with 1 Axes>"
            ]
          },
          "metadata": {
            "needs_background": "light"
          }
        }
      ]
    },
    {
      "cell_type": "markdown",
      "metadata": {
        "id": "3T5ae-ODzFgK"
      },
      "source": [
        "We see the difference in scale of the values. Let's plot the data on a log scale"
      ]
    },
    {
      "cell_type": "code",
      "metadata": {
        "colab": {
          "base_uri": "https://localhost:8080/",
          "height": 370
        },
        "id": "97J9nfszqMSp",
        "outputId": "c0e65c5d-918f-4959-c9b9-7be82bf2f7da"
      },
      "source": [
        "# Log Scale plot\n",
        "plt.bar(genre_count.index, genre_count, log=True)\n",
        "plt.xlabel('genres')\n",
        "plt.ylabel('count (log scale)')\n",
        "plt.xticks(genre_count.index, rotation='vertical')\n",
        "plt.title('Distribution of data across genres', y=0.99)"
      ],
      "execution_count": 51,
      "outputs": [
        {
          "output_type": "execute_result",
          "data": {
            "text/plain": [
              "Text(0.5, 0.99, 'Distribution of data across genres')"
            ]
          },
          "metadata": {},
          "execution_count": 51
        },
        {
          "output_type": "display_data",
          "data": {
            "image/png": "[encoded data removed]",
            "text/plain": [
              "<Figure size 432x288 with 1 Axes>"
            ]
          },
          "metadata": {
            "needs_background": "light"
          }
        }
      ]
    },
    {
      "cell_type": "markdown",
      "metadata": {
        "id": "eRsKw4oO30ik"
      },
      "source": [
        "We see that the data is very imbalanced and some genres have a very low number\n",
        "of entries. For the project we will keep only the genres which have more\n",
        "than 400 entries."
      ]
    },
    {
      "cell_type": "code",
      "metadata": {
        "colab": {
          "base_uri": "https://localhost:8080/"
        },
        "id": "bJMkXBhgqQOz",
        "outputId": "4bffd6e7-99b7-4d56-e710-7d72ad53459e"
      },
      "source": [
        "genre_count = genre_count[genre_count > 400]\n",
        "data = data[data.columns.intersection(\n",
        "    ['synopsis'] + genre_count.index.tolist())]\n",
        "data.shape"
      ],
      "execution_count": 52,
      "outputs": [
        {
          "output_type": "execute_result",
          "data": {
            "text/plain": [
              "(9494, 24)"
            ]
          },
          "metadata": {},
          "execution_count": 52
        }
      ]
    },
    {
      "cell_type": "markdown",
      "metadata": {
        "id": "9DzNFYCu4aPz"
      },
      "source": [
        "Let's plot the new data distribution"
      ]
    },
    {
      "cell_type": "code",
      "metadata": {
        "colab": {
          "base_uri": "https://localhost:8080/",
          "height": 297
        },
        "id": "iT02Q4JGqTxi",
        "outputId": "28c58580-60b6-47ec-9ebb-faf73ea8000b"
      },
      "source": [
        "plt.bar(genre_count.index, genre_count)\n",
        "plt.xlabel('genres')\n",
        "plt.ylabel('count')\n",
        "plt.xticks(genre_count.index, rotation='vertical')\n",
        "plt.title('New data distribution')\n",
        "plt.tight_layout()"
      ],
      "execution_count": 53,
      "outputs": [
        {
          "output_type": "display_data",
          "data": {
            "image/png": "[encoded data removed]",
            "text/plain": [
              "<Figure size 432x288 with 1 Axes>"
            ]
          },
          "metadata": {
            "needs_background": "light"
          }
        }
      ]
    },
    {
      "cell_type": "markdown",
      "metadata": {
        "id": "YHyDSEto5CIG"
      },
      "source": [
        "We will drop the rows that only have zeros left in remaining genres"
      ]
    },
    {
      "cell_type": "code",
      "metadata": {
        "colab": {
          "base_uri": "https://localhost:8080/"
        },
        "id": "X_-W4VVVqYfy",
        "outputId": "d897db57-de05-495d-8126-0eddcaba1d68"
      },
      "source": [
        "data = data[data.sum(axis=1, numeric_only=True) != 0]\n",
        "data.shape"
      ],
      "execution_count": 54,
      "outputs": [
        {
          "output_type": "execute_result",
          "data": {
            "text/plain": [
              "(9350, 24)"
            ]
          },
          "metadata": {},
          "execution_count": 54
        }
      ]
    },
    {
      "cell_type": "markdown",
      "metadata": {
        "id": "5JJEb0Cj5lxq"
      },
      "source": [
        "Let's take a look at the correlation between genres"
      ]
    },
    {
      "cell_type": "code",
      "metadata": {
        "colab": {
          "base_uri": "https://localhost:8080/",
          "height": 308
        },
        "id": "lc_v6vapqby9",
        "outputId": "28fc8ef9-e08a-4166-9c23-31076a04d9af"
      },
      "source": [
        "fig, axs = plt.subplots(1, 1)\n",
        "sn.heatmap(data[data.columns.intersection(genre_count.index)].corr(), ax=axs)\n",
        "fig.show()\n",
        "fig.suptitle('Correlation between different genres', y=1)\n",
        "fig.tight_layout()"
      ],
      "execution_count": 55,
      "outputs": [
        {
          "output_type": "display_data",
          "data": {
            "image/png": "[encoded data removed]",
            "text/plain": [
              "<Figure size 432x288 with 2 Axes>"
            ]
          },
          "metadata": {
            "needs_background": "light"
          }
        }
      ]
    },
    {
      "cell_type": "markdown",
      "metadata": {
        "id": "CujnteYx-ZXO"
      },
      "source": [
        "# Preprocessing synopsis\n",
        "\n",
        "As part of preprocessing, we will be doing the following steps:"
      ]
    },
    {
      "cell_type": "markdown",
      "metadata": {
        "id": "100o6BMV61Tu"
      },
      "source": [
        "\n",
        "\n",
        "## 1. Remove Source from synopsis\n",
        "Many entries have the source cited for the synopsis from various databases. For eg. Source: Wikipedia, Source: ANN, (Source: ANN), Source AnimeDB, etc. Some entries also give credit to people who wrote the synopsis, eg. [Written by XYZ]"
      ]
    },
    {
      "cell_type": "code",
      "metadata": {
        "id": "Hp59Ks2Wowpx"
      },
      "source": [
        "if any(data.synopsis.apply(lambda x: 'Source' in x)):\n",
        "    data.synopsis = data.synopsis.apply(\n",
        "        lambda x: re.sub(\n",
        "            r'[\\[\\(\\s]*Source[:\\s]*.*[\\]\\)\\s]*|\\[[W]ritten.*\\]', '', x))\n",
        "if any(data.synopsis.apply(lambda x: 'Source' in x)):\n",
        "    raise Exception('Error cleaning')\n",
        "if any(data.synopsis.apply(lambda x: '[Written' in x)):\n",
        "    raise Exception('Error cleaning')"
      ],
      "execution_count": 56,
      "outputs": []
    },
    {
      "cell_type": "markdown",
      "metadata": {
        "id": "rsdqdd0l9cLe"
      },
      "source": [
        "## 2. Replace numbers\n",
        "We replace numeric words with NUM. For eg: 1st, 4th, 1,000, 8.12, 100,000th, 1920s etc."
      ]
    },
    {
      "cell_type": "code",
      "metadata": {
        "id": "_E5ke2qDqwwM"
      },
      "source": [
        "data.synopsis = data.synopsis.apply(\n",
        "    lambda x: re.sub(r'\\d[\\d.,]*(st|rd|th)?|\\d[\\d.,]*(s)?', ' NUM ', x))"
      ],
      "execution_count": 57,
      "outputs": []
    },
    {
      "cell_type": "markdown",
      "metadata": {
        "id": "wCqTPEcs9qe5"
      },
      "source": [
        "## 3. Stemming\n",
        "We use PorterStemmer from nltk for stemming"
      ]
    },
    {
      "cell_type": "code",
      "metadata": {
        "id": "0sQ-br0Mqrbb"
      },
      "source": [
        "stemmer = PorterStemmer()\n",
        "data.synopsis = data.synopsis.apply(\n",
        "    lambda x: ' '.join([stemmer.stem(word) for word in x.split()]))"
      ],
      "execution_count": 58,
      "outputs": []
    },
    {
      "cell_type": "markdown",
      "metadata": {
        "id": "NFu3dJZa90qM"
      },
      "source": [
        "## 4. Generating Document Matrix\n",
        "\n",
        "This involves tokenizing, stop-word removal, N-gram generation and tf-idf calculation"
      ]
    },
    {
      "cell_type": "code",
      "metadata": {
        "colab": {
          "base_uri": "https://localhost:8080/"
        },
        "id": "yVZH-ccvqq19",
        "outputId": "97b19794-3176-4c6f-cdfb-0ba618568028"
      },
      "source": [
        "# Create a list of stop words\n",
        "nltk.download('stopwords')\n",
        "stops = set(stopwords.words(\"english\"))\n",
        "\n",
        "tokenizer = TfidfVectorizer().build_tokenizer()\n",
        "regex_tokenizer = RegexpTokenizer(r'\\w+')\n",
        "# Use Unigrams, Bigrams as features\n",
        "vectorizer = TfidfVectorizer(tokenizer=regex_tokenizer.tokenize,\n",
        "                             stop_words=stops,\n",
        "                             ngram_range=(1, 2),\n",
        "                             max_features=10000)\n",
        "\n",
        "document_matrix = vectorizer.fit_transform(data.synopsis)"
      ],
      "execution_count": 59,
      "outputs": [
        {
          "output_type": "stream",
          "name": "stdout",
          "text": [
            "[nltk_data] Downloading package stopwords to /root/nltk_data...\n",
            "[nltk_data]   Package stopwords is already up-to-date!\n"
          ]
        }
      ]
    },
    {
      "cell_type": "code",
      "metadata": {
        "colab": {
          "base_uri": "https://localhost:8080/"
        },
        "id": "kgJayUoH9G3B",
        "outputId": "27457926-3b9c-450d-a54a-339521ff9f91"
      },
      "source": [
        "document_matrix.shape"
      ],
      "execution_count": 60,
      "outputs": [
        {
          "output_type": "execute_result",
          "data": {
            "text/plain": [
              "(9350, 10000)"
            ]
          },
          "metadata": {},
          "execution_count": 60
        }
      ]
    },
    {
      "cell_type": "markdown",
      "metadata": {
        "id": "G98-Xy5z-CG2"
      },
      "source": [
        "We can now drop the synopsis column from the data"
      ]
    },
    {
      "cell_type": "code",
      "metadata": {
        "colab": {
          "base_uri": "https://localhost:8080/",
          "height": 261
        },
        "id": "x6OzgRhcqmyJ",
        "outputId": "b7e1fc61-1f84-47f2-b3d9-fc0819488e41"
      },
      "source": [
        "data.drop('synopsis', axis=1, inplace=True)\n",
        "data.head()"
      ],
      "execution_count": 61,
      "outputs": [
        {
          "output_type": "execute_result",
          "data": {
            "text/html": [
              "<div>\n",
              "<style scoped>\n",
              "    .dataframe tbody tr th:only-of-type {\n",
              "        vertical-align: middle;\n",
              "    }\n",
              "\n",
              "    .dataframe tbody tr th {\n",
              "        vertical-align: top;\n",
              "    }\n",
              "\n",
              "    .dataframe thead th {\n",
              "        text-align: right;\n",
              "    }\n",
              "</style>\n",
              "<table border=\"1\" class=\"dataframe\">\n",
              "  <thead>\n",
              "    <tr style=\"text-align: right;\">\n",
              "      <th></th>\n",
              "      <th>Drama</th>\n",
              "      <th>Romance</th>\n",
              "      <th>Shounen</th>\n",
              "      <th>Action</th>\n",
              "      <th>Mecha</th>\n",
              "      <th>Sci-Fi</th>\n",
              "      <th>Comedy</th>\n",
              "      <th>Ecchi</th>\n",
              "      <th>School</th>\n",
              "      <th>Seinen</th>\n",
              "      <th>Supernatural</th>\n",
              "      <th>Adventure</th>\n",
              "      <th>Fantasy</th>\n",
              "      <th>Historical</th>\n",
              "      <th>Shoujo</th>\n",
              "      <th>Sports</th>\n",
              "      <th>Kids</th>\n",
              "      <th>Music</th>\n",
              "      <th>Slice of Life</th>\n",
              "      <th>Super Power</th>\n",
              "      <th>Hentai</th>\n",
              "      <th>Military</th>\n",
              "      <th>Mystery</th>\n",
              "    </tr>\n",
              "  </thead>\n",
              "  <tbody>\n",
              "    <tr>\n",
              "      <th>0</th>\n",
              "      <td>1</td>\n",
              "      <td>1</td>\n",
              "      <td>1</td>\n",
              "      <td>0</td>\n",
              "      <td>0</td>\n",
              "      <td>0</td>\n",
              "      <td>0</td>\n",
              "      <td>0</td>\n",
              "      <td>0</td>\n",
              "      <td>0</td>\n",
              "      <td>0</td>\n",
              "      <td>0</td>\n",
              "      <td>0</td>\n",
              "      <td>0</td>\n",
              "      <td>0</td>\n",
              "      <td>0</td>\n",
              "      <td>0</td>\n",
              "      <td>0</td>\n",
              "      <td>0</td>\n",
              "      <td>0</td>\n",
              "      <td>0</td>\n",
              "      <td>0</td>\n",
              "      <td>0</td>\n",
              "    </tr>\n",
              "    <tr>\n",
              "      <th>1</th>\n",
              "      <td>0</td>\n",
              "      <td>0</td>\n",
              "      <td>0</td>\n",
              "      <td>1</td>\n",
              "      <td>1</td>\n",
              "      <td>1</td>\n",
              "      <td>0</td>\n",
              "      <td>0</td>\n",
              "      <td>0</td>\n",
              "      <td>0</td>\n",
              "      <td>0</td>\n",
              "      <td>0</td>\n",
              "      <td>0</td>\n",
              "      <td>0</td>\n",
              "      <td>0</td>\n",
              "      <td>0</td>\n",
              "      <td>0</td>\n",
              "      <td>0</td>\n",
              "      <td>0</td>\n",
              "      <td>0</td>\n",
              "      <td>0</td>\n",
              "      <td>0</td>\n",
              "      <td>0</td>\n",
              "    </tr>\n",
              "    <tr>\n",
              "      <th>2</th>\n",
              "      <td>0</td>\n",
              "      <td>0</td>\n",
              "      <td>0</td>\n",
              "      <td>1</td>\n",
              "      <td>1</td>\n",
              "      <td>0</td>\n",
              "      <td>1</td>\n",
              "      <td>0</td>\n",
              "      <td>0</td>\n",
              "      <td>0</td>\n",
              "      <td>0</td>\n",
              "      <td>0</td>\n",
              "      <td>0</td>\n",
              "      <td>0</td>\n",
              "      <td>0</td>\n",
              "      <td>0</td>\n",
              "      <td>0</td>\n",
              "      <td>0</td>\n",
              "      <td>0</td>\n",
              "      <td>0</td>\n",
              "      <td>0</td>\n",
              "      <td>0</td>\n",
              "      <td>0</td>\n",
              "    </tr>\n",
              "    <tr>\n",
              "      <th>3</th>\n",
              "      <td>0</td>\n",
              "      <td>0</td>\n",
              "      <td>0</td>\n",
              "      <td>0</td>\n",
              "      <td>0</td>\n",
              "      <td>1</td>\n",
              "      <td>0</td>\n",
              "      <td>0</td>\n",
              "      <td>0</td>\n",
              "      <td>0</td>\n",
              "      <td>0</td>\n",
              "      <td>0</td>\n",
              "      <td>0</td>\n",
              "      <td>0</td>\n",
              "      <td>0</td>\n",
              "      <td>0</td>\n",
              "      <td>0</td>\n",
              "      <td>0</td>\n",
              "      <td>0</td>\n",
              "      <td>0</td>\n",
              "      <td>0</td>\n",
              "      <td>0</td>\n",
              "      <td>0</td>\n",
              "    </tr>\n",
              "    <tr>\n",
              "      <th>4</th>\n",
              "      <td>0</td>\n",
              "      <td>0</td>\n",
              "      <td>0</td>\n",
              "      <td>1</td>\n",
              "      <td>0</td>\n",
              "      <td>0</td>\n",
              "      <td>1</td>\n",
              "      <td>1</td>\n",
              "      <td>1</td>\n",
              "      <td>1</td>\n",
              "      <td>1</td>\n",
              "      <td>0</td>\n",
              "      <td>0</td>\n",
              "      <td>0</td>\n",
              "      <td>0</td>\n",
              "      <td>0</td>\n",
              "      <td>0</td>\n",
              "      <td>0</td>\n",
              "      <td>0</td>\n",
              "      <td>0</td>\n",
              "      <td>0</td>\n",
              "      <td>0</td>\n",
              "      <td>0</td>\n",
              "    </tr>\n",
              "  </tbody>\n",
              "</table>\n",
              "</div>"
            ],
            "text/plain": [
              "   Drama  Romance  Shounen  Action  ...  Super Power  Hentai  Military  Mystery\n",
              "0      1        1        1       0  ...            0       0         0        0\n",
              "1      0        0        0       1  ...            0       0         0        0\n",
              "2      0        0        0       1  ...            0       0         0        0\n",
              "3      0        0        0       0  ...            0       0         0        0\n",
              "4      0        0        0       1  ...            0       0         0        0\n",
              "\n",
              "[5 rows x 23 columns]"
            ]
          },
          "metadata": {},
          "execution_count": 61
        }
      ]
    },
    {
      "cell_type": "markdown",
      "metadata": {
        "id": "wkT7xHQQ_kaq"
      },
      "source": [
        "# Training prediction models\n",
        "\n",
        "In this section, we will be building models using logitic regression, linear support vector classifier"
      ]
    },
    {
      "cell_type": "markdown",
      "metadata": {
        "id": "vUXRW3pomLJl"
      },
      "source": [
        "## Logistic Regression"
      ]
    },
    {
      "cell_type": "code",
      "metadata": {
        "id": "ubPrN2LRlnRV"
      },
      "source": [
        "def logistic_regression(x_train, y_train, x_test, y_test, categories):\n",
        "    clf = OneVsRestClassifier(LogisticRegression(solver='sag'), n_jobs=1)\n",
        "    clf.fit(x_train, y_train)\n",
        "    prob_matrix = clf.predict_proba(x_test)\n",
        "\n",
        "    # For this problem, we will predict only one genre with max probability\n",
        "    # and verify if the entry belongs to that genre\n",
        "    predicted_labels = np.argmax(prob_matrix, axis=1)\n",
        "\n",
        "    tmp = y_test\n",
        "    tmp['predicted'] = predicted_labels\n",
        "\n",
        "    count = 0\n",
        "    for i, row in tmp.iterrows():\n",
        "        if row[categories[row.predicted]] == 1:\n",
        "            count += 1\n",
        "\n",
        "    custom_score = count/len(predicted_labels)\n",
        "    return custom_score"
      ],
      "execution_count": 62,
      "outputs": []
    },
    {
      "cell_type": "markdown",
      "metadata": {
        "id": "PmQU4we0mQhb"
      },
      "source": [
        "## Linear Support Vector Classifier"
      ]
    },
    {
      "cell_type": "code",
      "metadata": {
        "id": "bfEkRptLmQRa"
      },
      "source": [
        "def svc(x_train, y_train, x_test, y_test, categories):\n",
        "    clf = OneVsRestClassifier(LinearSVC(), n_jobs=1)\n",
        "    clf.fit(x_train, y_train)\n",
        "    predicted_matrix = clf.predict(x_test)\n",
        "\n",
        "    # Find the count of cases where at least one of the genres\n",
        "    # matches the original\n",
        "    df = pd.DataFrame(predicted_matrix, index=y_test.index)\n",
        "    new = pd.DataFrame(\n",
        "        y_test.values*df.values, columns=y_test.columns, index=y_test.index)\n",
        "    count = np.count_nonzero(new.sum(axis=1))\n",
        "\n",
        "    custom_score = count/len(predicted_matrix)\n",
        "    return custom_score"
      ],
      "execution_count": 63,
      "outputs": []
    },
    {
      "cell_type": "markdown",
      "metadata": {
        "id": "0wfVYKAmmQAM"
      },
      "source": [
        "## Random Forests"
      ]
    },
    {
      "cell_type": "code",
      "metadata": {
        "id": "EwkZmiNemQOC"
      },
      "source": [
        "def random_forests(x_train, y_train, x_test, y_test, categories):\n",
        "    clf = OneVsRestClassifier(RandomForestClassifier(), n_jobs=1)\n",
        "    clf.fit(x_train, y_train)\n",
        "    prob_matrix = clf.predict_proba(x_test)\n",
        "\n",
        "    # For this problem, we will predict only one genre with max probability\n",
        "    # and verify if the entry belongs to that genre\n",
        "    predicted_labels = np.argmax(prob_matrix, axis=1)\n",
        "\n",
        "    tmp = y_test\n",
        "    tmp['predicted'] = predicted_labels\n",
        "\n",
        "    count = 0\n",
        "    for i, row in tmp.iterrows():\n",
        "        if row[categories[row.predicted]] == 1:\n",
        "            count += 1\n",
        "\n",
        "    custom_score = count/len(predicted_labels)\n",
        "    return custom_score"
      ],
      "execution_count": 64,
      "outputs": []
    },
    {
      "cell_type": "markdown",
      "metadata": {
        "id": "yc7UhrgSkobw"
      },
      "source": [
        "## K-Fold cross validation\n",
        "\n",
        "Since are data is inbalanced and cannot be divided easily into train and test sets using stratify, we will be using K-fold cross validation. This will help reduce the variance."
      ]
    },
    {
      "cell_type": "code",
      "metadata": {
        "id": "dMXp-XAE_qa-"
      },
      "source": [
        "def k_fold(x, y, k, classifier_function):\n",
        "    categories = y.columns\n",
        "    scores = []\n",
        "    # Custom k-fold\n",
        "    for i in range(k):\n",
        "        # Split data into training and testing\n",
        "        x_train, x_test = train_test_split(\n",
        "            x, random_state=i, test_size=0.3, shuffle=True)\n",
        "        y_train, y_test = train_test_split(\n",
        "            y, random_state=i, test_size=0.3, shuffle=True)\n",
        "        scores.append(classifier_function(\n",
        "            x_train, y_train, x_test, y_test, categories))\n",
        "    print('scores: {}\\n\\tavg: {}, \\n\\tmax: {}, \\n\\tmin: {}'.format(\n",
        "        scores, np.mean(scores), max(scores), min(scores)))\n"
      ],
      "execution_count": 65,
      "outputs": []
    },
    {
      "cell_type": "code",
      "metadata": {
        "colab": {
          "base_uri": "https://localhost:8080/"
        },
        "id": "dCmIzUUjnZBt",
        "outputId": "e0e266f9-a8a4-4c1b-d24a-893243b6c6d3"
      },
      "source": [
        "k_fold(document_matrix, data, 10, logistic_regression)"
      ],
      "execution_count": 66,
      "outputs": [
        {
          "output_type": "stream",
          "name": "stdout",
          "text": [
            "scores: [0.6388591800356507, 0.6549019607843137, 0.669162210338681, 0.6705882352941176, 0.653475935828877, 0.6524064171122995, 0.6524064171122995, 0.6449197860962567, 0.6385026737967915, 0.6591800356506239]\n",
            "\tavg: 0.6534402852049912, \n",
            "\tmax: 0.6705882352941176, \n",
            "\tmin: 0.6385026737967915\n"
          ]
        }
      ]
    },
    {
      "cell_type": "code",
      "metadata": {
        "colab": {
          "base_uri": "https://localhost:8080/"
        },
        "id": "Stacuj26ngmq",
        "outputId": "ce4d0c7f-9987-4b78-c0e0-a62b0c274651"
      },
      "source": [
        "k_fold(document_matrix, data, 10, svc)"
      ],
      "execution_count": 67,
      "outputs": [
        {
          "output_type": "stream",
          "name": "stdout",
          "text": [
            "scores: [0.6770053475935829, 0.6773618538324421, 0.6780748663101605, 0.6877005347593583, 0.6752228163992869, 0.6805704099821747, 0.6677361853832442, 0.6787878787878788, 0.6720142602495544, 0.6734402852049911]\n",
            "\tavg: 0.6767914438502673, \n",
            "\tmax: 0.6877005347593583, \n",
            "\tmin: 0.6677361853832442\n"
          ]
        }
      ]
    },
    {
      "cell_type": "code",
      "metadata": {
        "colab": {
          "base_uri": "https://localhost:8080/"
        },
        "id": "j5ikz-d5n6Fc",
        "outputId": "45c40862-9544-4975-b134-3c99adbbcd12"
      },
      "source": [
        "k_fold(document_matrix, data, 10, random_forests)"
      ],
      "execution_count": 68,
      "outputs": [
        {
          "output_type": "stream",
          "name": "stdout",
          "text": [
            "scores: [0.6367201426024955, 0.6463458110516934, 0.6688057040998218, 0.6638146167557932, 0.6484848484848484, 0.6598930481283423, 0.6438502673796791, 0.6484848484848484, 0.6392156862745098, 0.6641711229946524]\n",
            "\tavg: 0.6519786096256684, \n",
            "\tmax: 0.6688057040998218, \n",
            "\tmin: 0.6367201426024955\n"
          ]
        }
      ]
    },
    {
      "cell_type": "code",
      "metadata": {
        "id": "bFuCkgP3n-nb"
      },
      "source": [
        ""
      ],
      "execution_count": 68,
      "outputs": []
    }
  ]
}