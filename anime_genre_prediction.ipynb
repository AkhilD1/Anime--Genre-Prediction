{
  "nbformat": 4,
  "nbformat_minor": 0,
  "metadata": {
    "colab": {
      "name": "anime_genre_prediction.ipynb",
      "provenance": [],
      "authorship_tag": "ABX9TyNRN0D4eijrlr0b9yokAr8J",
      "include_colab_link": true
    },
    "kernelspec": {
      "name": "python3",
      "display_name": "Python 3"
    },
    "language_info": {
      "name": "python"
    },
    "accelerator": "GPU"
  },
  "cells": [
    {
      "cell_type": "markdown",
      "metadata": {
        "id": "view-in-github",
        "colab_type": "text"
      },
      "source": [
        "<a href=\"https://colab.research.google.com/github/kartikeyaj0/anime-genre-prediction/blob/main/anime_genre_prediction.ipynb\" target=\"_parent\"><img src=\"https://colab.research.google.com/assets/colab-badge.svg\" alt=\"Open In Colab\"/></a>"
      ]
    },
    {
      "cell_type": "markdown",
      "metadata": {
        "id": "B9WuB3hsq6bO"
      },
      "source": [
        "# Introduction\n",
        "\n",
        "In this project I will be trying to predict the genre for animes using their synopsis. We have used the MyAnimeList api (https://myanimelist.net/apiconfig/references/api/v2) to fetch the data. Please refer to the *'fetch_data.py'*. We will be using TF-IDF to convert the synopsis into a document matrix, and compare the performance of logistic regression, linear support vector classifier, and random forests on this dataset."
      ]
    },
    {
      "cell_type": "markdown",
      "metadata": {
        "id": "_5FTCNzfsOjT"
      },
      "source": [
        "# Imports\n",
        "\n",
        "We begin by importing all the necessary modules:"
      ]
    },
    {
      "cell_type": "code",
      "metadata": {
        "id": "Jx2pz4VYpuYo"
      },
      "source": [
        "import json\n",
        "import os\n",
        "import re\n",
        "\n",
        "from matplotlib import pyplot as plt\n",
        "import nltk\n",
        "from nltk.corpus import stopwords\n",
        "from nltk import RegexpTokenizer\n",
        "from nltk.stem.porter import PorterStemmer\n",
        "import numpy as np\n",
        "import pandas as pd\n",
        "import seaborn as sn\n",
        "from sklearn.ensemble import RandomForestClassifier\n",
        "from sklearn.feature_extraction.text import TfidfVectorizer\n",
        "from sklearn.model_selection import train_test_split\n",
        "from sklearn.multiclass import OneVsRestClassifier\n",
        "from sklearn.linear_model import LogisticRegression\n",
        "from sklearn.svm import LinearSVC"
      ],
      "execution_count": 1,
      "outputs": []
    },
    {
      "cell_type": "markdown",
      "metadata": {
        "id": "8GzzDIB5saYZ"
      },
      "source": [
        "# Fetching the data\n",
        "\n",
        "We will be cloning the project repository that contains the api responses saved as json files. An example of an api response is as follows:\n",
        "\n",
        "{\"id\": 1, \"title\": \"Cowboy Bebop\", \"synopsis\": \"In the year 2071, humanity has colonized several of the planets and moons of the solar system leaving the now uninhabitable surface of planet Earth behind. The Inter Solar System Police attempts to keep peace in the galaxy, aided in part by outlaw bounty hunters, referred to as \\\"Cowboys.\\\" The ragtag team aboard the spaceship Bebop are two such individuals.\\n \\nMellow and carefree Spike Spiegel is balanced by his boisterous, pragmatic partner Jet Black as the pair makes a living chasing bounties and collecting rewards. Thrown off course by the addition of new members that they meet in their travels\\u2014Ein, a genetically engineered, highly intelligent Welsh Corgi; femme fatale Faye Valentine, an enigmatic trickster with memory loss; and the strange computer whiz kid Edward Wong\\u2014the crew embarks on thrilling adventures that unravel each member's dark and mysterious past little by little.\\n\\nWell-balanced with high density action and light-hearted comedy, Cowboy Bebop is a space Western classic and an homage to the smooth and improvised music it is named after.\\n\\n[Written by MAL Rewrite]\", \"genres\": [{\"id\": 1, \"name\": \"Action\"}, {\"id\": 2, \"name\": \"Adventure\"}, {\"id\": 4, \"name\": \"Comedy\"}, {\"id\": 8, \"name\": \"Drama\"}, {\"id\": 24, \"name\": \"Sci-Fi\"}, {\"id\": 29, \"name\": \"Space\"}]}\n",
        "\n",
        "We see that the response (in general)has four fields:\n",
        "* id: Unique identifier in the MyAnimeList database\n",
        "* title: Name of the anime\n",
        "* synopsis: A brief summary of the anime\n",
        "* genres: A list of genres that best describe the anime\n",
        "\n",
        "Since fetching the data from the api takes a long time (due to rate limitations), we will use the pre-fetched data from our repository. The *'fetch_data.py'* script scans through ids 1 to 40000, and fetches data for the valid ids. We discard any responses with synopsis of length less than 200 characters."
      ]
    },
    {
      "cell_type": "code",
      "metadata": {
        "colab": {
          "base_uri": "https://localhost:8080/"
        },
        "id": "nnejnUAJtw1f",
        "outputId": "769b4c82-de56-4da7-86a5-43f77a4a6612"
      },
      "source": [
        "!git clone https://github.com/kartikeyaj0/anime-genre-prediction.git\n",
        "os.chdir('anime-genre-prediction')"
      ],
      "execution_count": 2,
      "outputs": [
        {
          "output_type": "stream",
          "name": "stdout",
          "text": [
            "Cloning into 'anime-genre-prediction'...\n",
            "remote: Enumerating objects: 9650, done.\u001b[K\n",
            "remote: Counting objects: 100% (9650/9650), done.\u001b[K\n",
            "remote: Compressing objects: 100% (9613/9613), done.\u001b[K\n",
            "remote: Total 9650 (delta 47), reused 9612 (delta 23), pack-reused 0\u001b[K\n",
            "Receiving objects: 100% (9650/9650), 23.67 MiB | 20.21 MiB/s, done.\n",
            "Resolving deltas: 100% (47/47), done.\n"
          ]
        }
      ]
    },
    {
      "cell_type": "markdown",
      "metadata": {
        "id": "SEA6MEFtudvd"
      },
      "source": [
        "# Compile the API responses\n",
        "\n",
        "We begin by loading the response json files into python lists"
      ]
    },
    {
      "cell_type": "code",
      "metadata": {
        "id": "P6EZ6mJYpyuH"
      },
      "source": [
        "anime_id = []\n",
        "anime_title = []\n",
        "anime_synopsis = []\n",
        "anime_genres = []\n",
        "\n",
        "# List all the data files\n",
        "file_list = os.listdir('data')\n",
        "\n",
        "# Read all the files\n",
        "for filename in file_list:\n",
        "    try:\n",
        "        with open('data/{}'.format(filename)) as f:\n",
        "            tmp = json.load(f)\n",
        "        anime_id.append(tmp.get('id'))\n",
        "        anime_title.append(tmp.get('title'))\n",
        "        anime_synopsis.append(tmp.get('synopsis'))\n",
        "        anime_genres.append(tmp.get('genres'))\n",
        "    except Exception:\n",
        "        raise Exception('Error reading the file {}'.format(filename))"
      ],
      "execution_count": 3,
      "outputs": []
    },
    {
      "cell_type": "markdown",
      "metadata": {
        "id": "c80gMuTXv9zn"
      },
      "source": [
        "We now create a pandas dataframe for our data"
      ]
    },
    {
      "cell_type": "code",
      "metadata": {
        "colab": {
          "base_uri": "https://localhost:8080/"
        },
        "id": "sJrAPkE_p2Lf",
        "outputId": "e0f2e2de-11d3-4742-a17a-d1fbbf0a81d3"
      },
      "source": [
        "data = pd.DataFrame({'id': anime_id,\n",
        "                     'title': anime_title,\n",
        "                     'synopsis': anime_synopsis,\n",
        "                     'genres': anime_genres})\n",
        "\n",
        "print(data.info())"
      ],
      "execution_count": 4,
      "outputs": [
        {
          "output_type": "stream",
          "name": "stdout",
          "text": [
            "<class 'pandas.core.frame.DataFrame'>\n",
            "RangeIndex: 9517 entries, 0 to 9516\n",
            "Data columns (total 4 columns):\n",
            " #   Column    Non-Null Count  Dtype \n",
            "---  ------    --------------  ----- \n",
            " 0   id        9517 non-null   int64 \n",
            " 1   title     9517 non-null   object\n",
            " 2   synopsis  9517 non-null   object\n",
            " 3   genres    9494 non-null   object\n",
            "dtypes: int64(1), object(3)\n",
            "memory usage: 297.5+ KB\n",
            "None\n"
          ]
        }
      ]
    },
    {
      "cell_type": "markdown",
      "metadata": {
        "id": "lmi9S9HiJpf-"
      },
      "source": [
        "Since each 'id' is unique, there are no duplicates in the data. We can see that some entries do not have 'genres' populated. We will be dropping these entries."
      ]
    },
    {
      "cell_type": "code",
      "metadata": {
        "id": "_vAo_D7lwm8J"
      },
      "source": [
        "data.dropna(inplace=True)"
      ],
      "execution_count": 5,
      "outputs": []
    },
    {
      "cell_type": "markdown",
      "metadata": {
        "id": "CbjQvKIUwpPZ"
      },
      "source": [
        "We can also drop id and title columns as we will not be using them"
      ]
    },
    {
      "cell_type": "code",
      "metadata": {
        "id": "s5Ltt_T3p_Iq"
      },
      "source": [
        "data.drop(['id', 'title'], axis=1, inplace=True)"
      ],
      "execution_count": 6,
      "outputs": []
    },
    {
      "cell_type": "markdown",
      "metadata": {
        "id": "e9nkqOOywyV7"
      },
      "source": [
        "# Visualize Synopsis Length\n",
        "\n",
        "Let's visualize the distribution of synopsis lengths"
      ]
    },
    {
      "cell_type": "code",
      "metadata": {
        "colab": {
          "base_uri": "https://localhost:8080/",
          "height": 311
        },
        "id": "6JipjN8Ep5L5",
        "outputId": "e2570c7a-b824-4a31-8613-6c8b72849238"
      },
      "source": [
        "synopsis_len = data.synopsis.str.len()\n",
        "fig, ax = plt.subplots(1, 1)\n",
        "synopsis_len.hist(\n",
        "    bins=np.arange(min(synopsis_len) - 1, max(synopsis_len) + 1, 50), ax=ax)\n",
        "ax.set_xlabel('Length of Synopsis')\n",
        "ax.set_ylabel('Count')\n",
        "fig.suptitle('Distribution of Synopsis Lengths',y=1.01)\n",
        "plt.tight_layout()\n",
        "plt.show()"
      ],
      "execution_count": 7,
      "outputs": [
        {
          "output_type": "display_data",
          "data": {
            "image/png": "[encoded data removed]",
            "text/plain": [
              "<Figure size 432x288 with 1 Axes>"
            ]
          },
          "metadata": {
            "needs_background": "light"
          }
        }
      ]
    },
    {
      "cell_type": "markdown",
      "metadata": {
        "id": "Tu5nz2syrNf4"
      },
      "source": [
        "# One-Hot Encoding\n",
        "We will now generate One-hot encoding vectors for the genres"
      ]
    },
    {
      "cell_type": "code",
      "metadata": {
        "colab": {
          "base_uri": "https://localhost:8080/"
        },
        "id": "yNqGvGWIp_ES",
        "outputId": "0c8bd43d-b48c-430a-d8f2-7189bb4f2b95"
      },
      "source": [
        "for index, row in data.iterrows():\n",
        "    for genre in row.genres:\n",
        "        if not genre['name'] in data:\n",
        "            data[genre['name']] = 0\n",
        "        data[genre['name']][index] = 1"
      ],
      "execution_count": 8,
      "outputs": [
        {
          "output_type": "stream",
          "name": "stderr",
          "text": [
            "/usr/local/lib/python3.7/dist-packages/ipykernel_launcher.py:5: SettingWithCopyWarning: \n",
            "A value is trying to be set on a copy of a slice from a DataFrame\n",
            "\n",
            "See the caveats in the documentation: https://pandas.pydata.org/pandas-docs/stable/user_guide/indexing.html#returning-a-view-versus-a-copy\n",
            "  \"\"\"\n"
          ]
        }
      ]
    },
    {
      "cell_type": "markdown",
      "metadata": {
        "id": "vCEdG-0Yx6Fl"
      },
      "source": [
        "We can now drop the genres column"
      ]
    },
    {
      "cell_type": "code",
      "metadata": {
        "id": "SIbi9pThx5j9"
      },
      "source": [
        "data.drop('genres', axis=1, inplace=True)"
      ],
      "execution_count": 9,
      "outputs": []
    },
    {
      "cell_type": "markdown",
      "metadata": {
        "id": "LsAL8EUDy6Yv"
      },
      "source": [
        "# Visualizing data distribution"
      ]
    },
    {
      "cell_type": "code",
      "metadata": {
        "colab": {
          "base_uri": "https://localhost:8080/",
          "height": 370
        },
        "id": "IwWWVkWWqFIj",
        "outputId": "40ce3a4f-3490-4d7b-a244-4331c1ef3be3"
      },
      "source": [
        "genre_count = data.sum(numeric_only=True)\n",
        "\n",
        "# Plotting the data distribution\n",
        "plt.bar(genre_count.index, genre_count)\n",
        "plt.xlabel('genres')\n",
        "plt.ylabel('count')\n",
        "plt.xticks(rotation = 90)\n",
        "plt.title('Distribution of data across genres', y=0.99)"
      ],
      "execution_count": 10,
      "outputs": [
        {
          "output_type": "execute_result",
          "data": {
            "text/plain": [
              "Text(0.5, 0.99, 'Distribution of data across genres')"
            ]
          },
          "metadata": {},
          "execution_count": 10
        },
        {
          "output_type": "display_data",
          "data": {
            "image/png": "[encoded data removed]",
            "text/plain": [
              "<Figure size 432x288 with 1 Axes>"
            ]
          },
          "metadata": {
            "needs_background": "light"
          }
        }
      ]
    },
    {
      "cell_type": "markdown",
      "metadata": {
        "id": "3T5ae-ODzFgK"
      },
      "source": [
        "We see the difference in scale of the values. Let's plot the data on a log scale"
      ]
    },
    {
      "cell_type": "code",
      "metadata": {
        "colab": {
          "base_uri": "https://localhost:8080/",
          "height": 370
        },
        "id": "97J9nfszqMSp",
        "outputId": "eac7aad5-65db-450c-c12f-10c01372d51f"
      },
      "source": [
        "# Log Scale plot\n",
        "plt.bar(genre_count.index, genre_count, log=True)\n",
        "plt.xlabel('genres')\n",
        "plt.ylabel('count (log scale)')\n",
        "plt.xticks(genre_count.index, rotation='vertical')\n",
        "plt.title('Distribution of data across genres', y=0.99)"
      ],
      "execution_count": 11,
      "outputs": [
        {
          "output_type": "execute_result",
          "data": {
            "text/plain": [
              "Text(0.5, 0.99, 'Distribution of data across genres')"
            ]
          },
          "metadata": {},
          "execution_count": 11
        },
        {
          "output_type": "display_data",
          "data": {
            "image/png": "[encoded data removed]",
            "text/plain": [
              "<Figure size 432x288 with 1 Axes>"
            ]
          },
          "metadata": {
            "needs_background": "light"
          }
        }
      ]
    },
    {
      "cell_type": "markdown",
      "metadata": {
        "id": "eRsKw4oO30ik"
      },
      "source": [
        "We see that the data is very imbalanced and some genres have a very low number\n",
        "of entries. For the project we will keep only the genres which have more\n",
        "than 400 entries."
      ]
    },
    {
      "cell_type": "code",
      "metadata": {
        "id": "bJMkXBhgqQOz"
      },
      "source": [
        "genre_count = genre_count[genre_count > 400]\n",
        "data = data[data.columns.intersection(\n",
        "    ['synopsis'] + genre_count.index.tolist())]"
      ],
      "execution_count": 12,
      "outputs": []
    },
    {
      "cell_type": "markdown",
      "metadata": {
        "id": "9DzNFYCu4aPz"
      },
      "source": [
        "Let's plot the new data distribution"
      ]
    },
    {
      "cell_type": "code",
      "metadata": {
        "colab": {
          "base_uri": "https://localhost:8080/",
          "height": 297
        },
        "id": "iT02Q4JGqTxi",
        "outputId": "e183a20d-a1bf-4d30-d596-d682b21c2c39"
      },
      "source": [
        "plt.bar(genre_count.index, genre_count)\n",
        "plt.xlabel('genres')\n",
        "plt.ylabel('count')\n",
        "plt.xticks(genre_count.index, rotation='vertical')\n",
        "plt.title('New data distribution')\n",
        "plt.tight_layout()"
      ],
      "execution_count": 13,
      "outputs": [
        {
          "output_type": "display_data",
          "data": {
            "image/png": "[encoded data removed]",
            "text/plain": [
              "<Figure size 432x288 with 1 Axes>"
            ]
          },
          "metadata": {
            "needs_background": "light"
          }
        }
      ]
    },
    {
      "cell_type": "markdown",
      "metadata": {
        "id": "YHyDSEto5CIG"
      },
      "source": [
        "We will drop the rows that only have zeros left in remaining genres"
      ]
    },
    {
      "cell_type": "code",
      "metadata": {
        "id": "X_-W4VVVqYfy"
      },
      "source": [
        "data = data[data.sum(axis=1, numeric_only=True) != 0]"
      ],
      "execution_count": 14,
      "outputs": []
    },
    {
      "cell_type": "markdown",
      "metadata": {
        "id": "5JJEb0Cj5lxq"
      },
      "source": [
        "Let's take a look at the correlation between genres"
      ]
    },
    {
      "cell_type": "code",
      "metadata": {
        "colab": {
          "base_uri": "https://localhost:8080/",
          "height": 308
        },
        "id": "lc_v6vapqby9",
        "outputId": "6eba9efb-0e92-40fd-f952-012e43529982"
      },
      "source": [
        "fig, axs = plt.subplots(1, 1)\n",
        "sn.heatmap(data[data.columns.intersection(genre_count.index)].corr(), ax=axs)\n",
        "fig.show()\n",
        "fig.suptitle('Correlation between different genres', y=1)\n",
        "fig.tight_layout()"
      ],
      "execution_count": 15,
      "outputs": [
        {
          "output_type": "display_data",
          "data": {
            "image/png": "[encoded data removed]",
            "text/plain": [
              "<Figure size 432x288 with 2 Axes>"
            ]
          },
          "metadata": {
            "needs_background": "light"
          }
        }
      ]
    },
    {
      "cell_type": "markdown",
      "metadata": {
        "id": "CujnteYx-ZXO"
      },
      "source": [
        "# Preprocessing synopsis\n",
        "\n",
        "As part of preprocessing, we will be doing the following steps:"
      ]
    },
    {
      "cell_type": "markdown",
      "metadata": {
        "id": "100o6BMV61Tu"
      },
      "source": [
        "\n",
        "\n",
        "## 1. Remove Source from synopsis\n",
        "Many entries have the source cited for the synopsis from various databases. For eg. Source: Wikipedia, Source: ANN, (Source: ANN), Source AnimeDB, etc. Some entries also give credit to people who wrote the synopsis, eg. [Written by XYZ]"
      ]
    },
    {
      "cell_type": "code",
      "metadata": {
        "id": "Hp59Ks2Wowpx"
      },
      "source": [
        "if any(data.synopsis.apply(lambda x: 'Source' in x)):\n",
        "    data.synopsis = data.synopsis.apply(\n",
        "        lambda x: re.sub(\n",
        "            r'[\\[\\(\\s]*Source[:\\s]*.*[\\]\\)\\s]*|\\[[W]ritten.*\\]', '', x))\n",
        "if any(data.synopsis.apply(lambda x: 'Source' in x)):\n",
        "    raise Exception('Error cleaning')\n",
        "if any(data.synopsis.apply(lambda x: '[Written' in x)):\n",
        "    raise Exception('Error cleaning')"
      ],
      "execution_count": 16,
      "outputs": []
    },
    {
      "cell_type": "markdown",
      "metadata": {
        "id": "rsdqdd0l9cLe"
      },
      "source": [
        "## 2. Replace numbers\n",
        "We replace numeric words with NUM. For eg: 1st, 4th, 1,000, 8.12, 100,000th, 1920s etc."
      ]
    },
    {
      "cell_type": "code",
      "metadata": {
        "id": "_E5ke2qDqwwM"
      },
      "source": [
        "data.synopsis = data.synopsis.apply(\n",
        "    lambda x: re.sub(r'\\d[\\d.,]*(st|rd|th)?|\\d[\\d.,]*(s)?', ' NUM ', x))"
      ],
      "execution_count": 17,
      "outputs": []
    },
    {
      "cell_type": "markdown",
      "metadata": {
        "id": "wCqTPEcs9qe5"
      },
      "source": [
        "## 3. Stemming\n",
        "We use PorterStemmer from nltk for stemming"
      ]
    },
    {
      "cell_type": "code",
      "metadata": {
        "id": "0sQ-br0Mqrbb"
      },
      "source": [
        "stemmer = PorterStemmer()\n",
        "data.synopsis = data.synopsis.apply(\n",
        "    lambda x: ' '.join([stemmer.stem(word) for word in x.split()]))"
      ],
      "execution_count": 18,
      "outputs": []
    },
    {
      "cell_type": "markdown",
      "metadata": {
        "id": "NFu3dJZa90qM"
      },
      "source": [
        "## 4. Generating Document Matrix\n",
        "\n",
        "This involves tokenizing, stop-word removal, N-gram generation and tf-idf calculation"
      ]
    },
    {
      "cell_type": "code",
      "metadata": {
        "colab": {
          "base_uri": "https://localhost:8080/"
        },
        "id": "yVZH-ccvqq19",
        "outputId": "97625ac4-eaab-4117-f424-ac4b2bada8aa"
      },
      "source": [
        "# Create a list of stop words\n",
        "nltk.download('stopwords')\n",
        "stops = set(stopwords.words(\"english\"))\n",
        "\n",
        "tokenizer = TfidfVectorizer().build_tokenizer()\n",
        "regex_tokenizer = RegexpTokenizer(r'\\w+')\n",
        "# Use Unigrams, Bigrams as features\n",
        "vectorizer = TfidfVectorizer(tokenizer=regex_tokenizer.tokenize,\n",
        "                             stop_words=stops,\n",
        "                             ngram_range=(1, 2),\n",
        "                             max_features=10000)\n",
        "\n",
        "document_matrix = vectorizer.fit_transform(data.synopsis)"
      ],
      "execution_count": 19,
      "outputs": [
        {
          "output_type": "stream",
          "name": "stdout",
          "text": [
            "[nltk_data] Downloading package stopwords to /root/nltk_data...\n",
            "[nltk_data]   Unzipping corpora/stopwords.zip.\n"
          ]
        }
      ]
    },
    {
      "cell_type": "markdown",
      "metadata": {
        "id": "G98-Xy5z-CG2"
      },
      "source": [
        "We can now drop the synopsis column from the data"
      ]
    },
    {
      "cell_type": "code",
      "metadata": {
        "id": "x6OzgRhcqmyJ"
      },
      "source": [
        "data.drop('synopsis', axis=1, inplace=True)"
      ],
      "execution_count": 20,
      "outputs": []
    },
    {
      "cell_type": "markdown",
      "metadata": {
        "id": "wkT7xHQQ_kaq"
      },
      "source": [
        "# Training prediction models\n",
        "\n",
        "In this section, we will be building models using logitic regression, linear support vector classifier"
      ]
    },
    {
      "cell_type": "markdown",
      "metadata": {
        "id": "vUXRW3pomLJl"
      },
      "source": [
        "## Logistic Regression"
      ]
    },
    {
      "cell_type": "code",
      "metadata": {
        "id": "ubPrN2LRlnRV"
      },
      "source": [
        "def logistic_regression(x_train, y_train, x_test, y_test, categories):\n",
        "    clf = OneVsRestClassifier(LogisticRegression(solver='sag'), n_jobs=1)\n",
        "    clf.fit(x_train, y_train)\n",
        "    prob_matrix = clf.predict_proba(x_test)\n",
        "\n",
        "    # For this problem, we will predict only one genre with max probability\n",
        "    # and verify if the entry belongs to that genre\n",
        "    predicted_labels = np.argmax(prob_matrix, axis=1)\n",
        "\n",
        "    tmp = y_test\n",
        "    tmp['predicted'] = predicted_labels\n",
        "\n",
        "    count = 0\n",
        "    for i, row in tmp.iterrows():\n",
        "        if row[categories[row.predicted]] == 1:\n",
        "            count += 1\n",
        "\n",
        "    custom_score = count/len(predicted_labels)\n",
        "    return custom_score"
      ],
      "execution_count": 21,
      "outputs": []
    },
    {
      "cell_type": "markdown",
      "metadata": {
        "id": "PmQU4we0mQhb"
      },
      "source": [
        "## Linear Support Vector Classifier"
      ]
    },
    {
      "cell_type": "code",
      "metadata": {
        "id": "bfEkRptLmQRa"
      },
      "source": [
        "def svc(x_train, y_train, x_test, y_test, categories):\n",
        "    clf = OneVsRestClassifier(LinearSVC(), n_jobs=1)\n",
        "    clf.fit(x_train, y_train)\n",
        "    predicted_matrix = clf.predict(x_test)\n",
        "\n",
        "    # Find the count of cases where at least one of the genres\n",
        "    # matches the original\n",
        "    df = pd.DataFrame(predicted_matrix, index=y_test.index)\n",
        "    new = pd.DataFrame(\n",
        "        y_test.values*df.values, columns=y_test.columns, index=y_test.index)\n",
        "    count = np.count_nonzero(new.sum(axis=1))\n",
        "\n",
        "    custom_score = count/len(predicted_matrix)\n",
        "    return custom_score"
      ],
      "execution_count": 22,
      "outputs": []
    },
    {
      "cell_type": "markdown",
      "metadata": {
        "id": "0wfVYKAmmQAM"
      },
      "source": [
        "## Random Forests"
      ]
    },
    {
      "cell_type": "code",
      "metadata": {
        "id": "EwkZmiNemQOC"
      },
      "source": [
        "def random_forests(x_train, y_train, x_test, y_test, categories):\n",
        "    clf = OneVsRestClassifier(RandomForestClassifier(), n_jobs=1)\n",
        "    clf.fit(x_train, y_train)\n",
        "    prob_matrix = clf.predict_proba(x_test)\n",
        "\n",
        "    # For this problem, we will predict only one genre with max probability\n",
        "    # and verify if the entry belongs to that genre\n",
        "    predicted_labels = np.argmax(prob_matrix, axis=1)\n",
        "\n",
        "    tmp = y_test\n",
        "    tmp['predicted'] = predicted_labels\n",
        "\n",
        "    count = 0\n",
        "    for i, row in tmp.iterrows():\n",
        "        if row[categories[row.predicted]] == 1:\n",
        "            count += 1\n",
        "\n",
        "    custom_score = count/len(predicted_labels)\n",
        "    return custom_score"
      ],
      "execution_count": 23,
      "outputs": []
    },
    {
      "cell_type": "markdown",
      "metadata": {
        "id": "yc7UhrgSkobw"
      },
      "source": [
        "## K-Fold cross validation\n",
        "\n",
        "Since are data is inbalanced and cannot be divided easily into train and test sets using stratify, we will be using K-fold cross validation. This will help reduce the variance."
      ]
    },
    {
      "cell_type": "code",
      "metadata": {
        "id": "dMXp-XAE_qa-"
      },
      "source": [
        "def k_fold(x, y, k, classifier_function):\n",
        "    categories = y.columns\n",
        "    scores = []\n",
        "    # Custom k-fold\n",
        "    for i in range(k):\n",
        "        # Split data into training and testing\n",
        "        x_train, x_test = train_test_split(\n",
        "            x, random_state=i, test_size=0.3, shuffle=True)\n",
        "        y_train, y_test = train_test_split(\n",
        "            y, random_state=i, test_size=0.3, shuffle=True)\n",
        "        scores.append(classifier_function(\n",
        "            x_train, y_train, x_test, y_test, categories))\n",
        "    print('scores: {}\\n\\tavg: {}, \\n\\tmax: {}, \\n\\tmin: {}'.format(\n",
        "        scores, np.mean(scores), max(scores), min(scores)))\n"
      ],
      "execution_count": 24,
      "outputs": []
    },
    {
      "cell_type": "code",
      "metadata": {
        "colab": {
          "base_uri": "https://localhost:8080/"
        },
        "id": "dCmIzUUjnZBt",
        "outputId": "06fd7268-9fbf-469a-8e8e-d58a4cceb7d2"
      },
      "source": [
        "k_fold(document_matrix, data, 10, logistic_regression)"
      ],
      "execution_count": 25,
      "outputs": [
        {
          "output_type": "stream",
          "name": "stdout",
          "text": [
            "scores: [0.6549019607843137, 0.6402852049910873, 0.669162210338681, 0.6631016042780749, 0.6598930481283423, 0.6452762923351159, 0.6395721925133689, 0.6663101604278074, 0.6424242424242425, 0.6520499108734403]\n",
            "\tavg: 0.6532976827094474, \n",
            "\tmax: 0.669162210338681, \n",
            "\tmin: 0.6395721925133689\n"
          ]
        }
      ]
    },
    {
      "cell_type": "code",
      "metadata": {
        "colab": {
          "base_uri": "https://localhost:8080/"
        },
        "id": "Stacuj26ngmq",
        "outputId": "c2638106-e2fb-4a7b-abda-dc2742b1adc2"
      },
      "source": [
        "k_fold(document_matrix, data, 10, svc)"
      ],
      "execution_count": 26,
      "outputs": [
        {
          "output_type": "stream",
          "name": "stdout",
          "text": [
            "scores: [0.6727272727272727, 0.6666666666666666, 0.6805704099821747, 0.6787878787878788, 0.6805704099821747, 0.6787878787878788, 0.6609625668449198, 0.6777183600713013, 0.6709447415329768, 0.6655971479500892]\n",
            "\tavg: 0.6733333333333333, \n",
            "\tmax: 0.6805704099821747, \n",
            "\tmin: 0.6609625668449198\n"
          ]
        }
      ]
    },
    {
      "cell_type": "code",
      "metadata": {
        "id": "j5ikz-d5n6Fc"
      },
      "source": [
        "k_fold(document_matrix, data, 10, random_forests)"
      ],
      "execution_count": null,
      "outputs": []
    },
    {
      "cell_type": "code",
      "metadata": {
        "id": "bFuCkgP3n-nb"
      },
      "source": [
        ""
      ],
      "execution_count": null,
      "outputs": []
    }
  ]
}